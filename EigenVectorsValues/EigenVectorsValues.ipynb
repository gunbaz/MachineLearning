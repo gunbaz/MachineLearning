{
 "cells": [
  {
   "cell_type": "markdown",
   "id": "3e63b562",
   "metadata": {},
   "source": [
    "# EigenVectorsValues.ipynb\n",
    "Bu notebook, 3. soruya ilişkin iki farklı özdeğer hesaplama yöntemini içerir."
   ]
  },
  {
   "cell_type": "code",
   "execution_count": null,
   "id": "907b66bc",
   "metadata": {},
   "outputs": [],
   "source": [
    "import numpy as np\n",
    "\n",
    "# Örnek 3x3 kare matris\n",
    "A = np.array([\n",
    "    [4, -2, 1],\n",
    "    [0, 3, -1],\n",
    "    [0, 0, 2]\n",
    "])\n",
    "\n",
    "# NumPy'nin eig fonksiyonu ile özdeğer ve özvektörleri hesapla\n",
    "eigenvalues, eigenvectors = np.linalg.eig(A)\n",
    "\n",
    "print(\"🔷 Özdeğerler (Eigenvalues):\")\n",
    "print(eigenvalues)\n",
    "\n",
    "print(\"\\n🔶 Özvektörler (Eigenvectors):\")\n",
    "for i, vec in enumerate(eigenvectors.T):\n",
    "    print(f\"{i+1}. Özvektör (λ = {eigenvalues[i]}): {vec}\")\n"
   ]
  },
  {
   "cell_type": "code",
   "execution_count": null,
   "id": "324a70b7",
   "metadata": {},
   "outputs": [],
   "source": [
    "import numpy as np\n",
    "import sympy as sp\n",
    "\n",
    "A = np.array([\n",
    "    [4, -2, 1],\n",
    "    [0, 3, -1],\n",
    "    [0, 0, 2]\n",
    "])\n",
    "\n",
    "# Sembolik değişken tanımlıyoruz\n",
    "λ = sp.Symbol('λ')\n",
    "\n",
    "# Karakteristik matris: A - λI\n",
    "I = np.identity(3)\n",
    "char_matrix = A - λ * I\n",
    "\n",
    "# Determinant hesapla ve karakteristik polinomu elde et\n",
    "char_poly = sp.Matrix(char_matrix).det()\n",
    "\n",
    "# Polinomu sadeleştir\n",
    "char_poly_simplified = sp.simplify(char_poly)\n",
    "\n",
    "# Polinomu çözerek özdeğerleri bul\n",
    "eigenvals_symbolic = sp.solve(char_poly_simplified, λ)\n",
    "\n",
    "print(\"📐 Karakteristik Polinom:\")\n",
    "print(char_poly_simplified)\n",
    "\n",
    "print(\"\\n🔷 Sembolik olarak Hesaplanan Özdeğerler:\")\n",
    "for i, val in enumerate(eigenvals_symbolic):\n",
    "    print(f\"{i+1}. Özdeğer: λ = {val}\")\n"
   ]
  }
 ],
 "metadata": {
  "language_info": {
   "name": "python"
  }
 },
 "nbformat": 4,
 "nbformat_minor": 5
}
